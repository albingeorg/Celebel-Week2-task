{
 "cells": [
  {
   "cell_type": "markdown",
   "id": "3f5a8e43",
   "metadata": {},
   "source": [
    "# Celebel Technology Task - 2 (Data Engineering001)"
   ]
  },
  {
   "cell_type": "code",
   "execution_count": 8,
   "id": "dea54cbd",
   "metadata": {},
   "outputs": [
    {
     "name": "stdout",
     "output_type": "stream",
     "text": [
      "Albin George\n"
     ]
    }
   ],
   "source": [
    "# capitalize : Task to make the first letter of every words as capital\n",
    "\n",
    "def capitalize_name(name):\n",
    "    return ' '.join(word.capitalize() for word in name.split())\n",
    "\n",
    "\n",
    "full_name = input()\n",
    "\n",
    "print(capitalize_name(full_name))\n",
    "\n"
   ]
  },
  {
   "cell_type": "markdown",
   "id": "efe4c490",
   "metadata": {},
   "source": []
  },
  {
   "cell_type": "code",
   "execution_count": 2,
   "id": "c01edf3b",
   "metadata": {},
   "outputs": [
    {
     "name": "stdout",
     "output_type": "stream",
     "text": [
      "0.0\n"
     ]
    }
   ],
   "source": [
    "# py-introduction-to-sets : Calculate the avarges of items present inside a python set\n",
    "\n",
    "def average(arr):\n",
    "    distinct_heights = set(arr)\n",
    "    return round(sum(distinct_heights) / len(distinct_heights), 3)\n",
    "\n",
    "n = int(input())\n",
    "arr = list(map(int, input().split()))\n",
    "\n",
    "print(average(arr))\n"
   ]
  },
  {
   "cell_type": "code",
   "execution_count": 3,
   "id": "e2f1af1a",
   "metadata": {},
   "outputs": [
    {
     "name": "stdout",
     "output_type": "stream",
     "text": [
      "\n"
     ]
    }
   ],
   "source": [
    "# text-wrap : Task to wrap the string into a paragraph of given width .\n",
    "\n",
    "import textwrap\n",
    "\n",
    "def wrap(string, max_width):\n",
    "    return textwrap.fill(string, width=max_width)\n",
    "\n",
    "string = input()\n",
    "max_width = int(input())\n",
    "\n",
    "print(wrap(string, max_width))\n"
   ]
  },
  {
   "cell_type": "code",
   "execution_count": 7,
   "id": "43e07863",
   "metadata": {},
   "outputs": [
    {
     "name": "stdout",
     "output_type": "stream",
     "text": [
      "........e........\n",
      "......e.d.e......\n",
      "....e.d.c.d.e....\n",
      "..e.d.c.b.c.d.e..\n",
      "e.d.c.b.a.b.c.d.e\n",
      "..e.d.c.b.c.d.e..\n",
      "....e.d.c.d.e....\n",
      "......e.d.e......\n",
      "........e........\n"
     ]
    }
   ],
   "source": [
    "# alphabet-rangoli : pattern printing with the help of alphabets\n",
    "\n",
    "def print_rangoli(size):\n",
    "    import string\n",
    "    alpha = string.ascii_lowercase\n",
    "    lines = []\n",
    "\n",
    "    for i in range(size):\n",
    "        left = '.'.join(alpha[size-1:i:-1] + alpha[i:size])\n",
    "        line = left.center(4*size-3, '.')\n",
    "        lines.append(line)\n",
    "    \n",
    "    full_pattern = lines[::-1] + lines[1:]\n",
    "    print('\\n'.join(full_pattern))\n",
    "\n",
    "n = int(input())\n",
    "print_rangoli(n)\n"
   ]
  },
  {
   "cell_type": "code",
   "execution_count": null,
   "id": "4d2f5000",
   "metadata": {},
   "outputs": [
    {
     "name": "stdout",
     "output_type": "stream",
     "text": [
      "AB\n",
      "CA\n",
      "AD\n"
     ]
    }
   ],
   "source": [
    "# merge-the-tools : Split a string into equal parts of length and Convert each parts by removing any subsequent occurrences of non-distinct\n",
    "\n",
    "def merge_the_tools(string, k):\n",
    "    for i in range(0, len(string), k):\n",
    "        part = string[i:i+k]\n",
    "        seen = ''\n",
    "        for char in part:\n",
    "            if char not in seen:\n",
    "                seen += char\n",
    "        print(seen)\n",
    "\n",
    "string = input()\n",
    "k = int(input())\n",
    "\n",
    "merge_the_tools(string, k)\n"
   ]
  },
  {
   "cell_type": "code",
   "execution_count": null,
   "id": "ef3ee5d2",
   "metadata": {},
   "outputs": [
    {
     "name": "stdout",
     "output_type": "stream",
     "text": [
      "200\n"
     ]
    }
   ],
   "source": [
    "# collections-counter : calculate the total earned amount\n",
    "\n",
    "from collections import Counter\n",
    "\n",
    "x = int(input())\n",
    "sizes = list(map(int, input().split()))\n",
    "shoe_counter = Counter(sizes)\n",
    "\n",
    "n = int(input())\n",
    "total = 0\n",
    "\n",
    "for _ in range(n):\n",
    "    size, price = map(int, input().split())\n",
    "    if shoe_counter[size] > 0:\n",
    "        total += price\n",
    "        shoe_counter[size] -= 1\n",
    "\n",
    "print(total)\n"
   ]
  },
  {
   "cell_type": "code",
   "execution_count": 5,
   "id": "35dd8a02",
   "metadata": {},
   "outputs": [
    {
     "name": "stdout",
     "output_type": "stream",
     "text": [
      "Error Code: integer division or modulo by zero\n"
     ]
    }
   ],
   "source": [
    "# exceptions : implementing exception handling\n",
    "\n",
    "t = int(input())\n",
    "\n",
    "for _ in range(t):\n",
    "    try:\n",
    "        a, b = map(int, input().split())\n",
    "        print(a // b)\n",
    "    except ZeroDivisionError as e:\n",
    "        print(\"Error Code:\", e)\n",
    "    except ValueError as e:\n",
    "        print(\"Error Code:\", e)\n"
   ]
  },
  {
   "cell_type": "code",
   "execution_count": 6,
   "id": "ae3fc33c",
   "metadata": {},
   "outputs": [
    {
     "name": "stdout",
     "output_type": "stream",
     "text": [
      "True\n"
     ]
    }
   ],
   "source": [
    "# incorrect-regex : regex based problem statement\n",
    "\n",
    "import re\n",
    "\n",
    "for _ in range(int(input())):\n",
    "    try:\n",
    "        re.compile(input())\n",
    "        print(True)\n",
    "    except re.error:\n",
    "        print(False)\n"
   ]
  },
  {
   "cell_type": "code",
   "execution_count": null,
   "id": "a5f08a29",
   "metadata": {},
   "outputs": [],
   "source": [
    "# py-set-discard-remove-pop : task based on discard(),remove() & pop()\n",
    "\n",
    "n = int(input())\n",
    "s = set(map(int, input().split()))\n",
    "num_commands = int(input())\n",
    "\n",
    "for _ in range(num_commands):\n",
    "    parts = input().split()\n",
    "    cmd = parts[0]\n",
    "    \n",
    "    if cmd == \"pop\":\n",
    "        s.pop()\n",
    "    elif cmd == \"remove\":\n",
    "        s.remove(int(parts[1]))\n",
    "    elif cmd == \"discard\":\n",
    "        s.discard(int(parts[1]))\n",
    "\n",
    "print(sum(s))\n"
   ]
  }
 ],
 "metadata": {
  "kernelspec": {
   "display_name": "Python 3",
   "language": "python",
   "name": "python3"
  },
  "language_info": {
   "codemirror_mode": {
    "name": "ipython",
    "version": 3
   },
   "file_extension": ".py",
   "mimetype": "text/x-python",
   "name": "python",
   "nbconvert_exporter": "python",
   "pygments_lexer": "ipython3",
   "version": "3.10.7"
  }
 },
 "nbformat": 4,
 "nbformat_minor": 5
}
